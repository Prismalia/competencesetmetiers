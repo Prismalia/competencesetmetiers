{
 "cells": [
  {
   "cell_type": "code",
   "execution_count": null,
   "id": "b332eb44",
   "metadata": {},
   "outputs": [],
   "source": [
    "!pip install openai"
   ]
  },
  {
   "cell_type": "markdown",
   "id": "a5d3b3dc",
   "metadata": {},
   "source": [
    "# Projet 1 : Faire parler ChatGPT avec lui-même\n",
    "\n",
    "Dans ce guide, nous allons décomposer et expliquer un morceau de code qui permet à ChatGPT de converser avec lui-même. Si vous n'êtes pas familier avec Python, ne vous inquiétez pas, nous allons tout expliquer étape par étape."
   ]
  },
  {
   "cell_type": "markdown",
   "id": "a96ba3e9",
   "metadata": {},
   "source": [
    "Cette ligne importe la bibliothèque openai, qui est nécessaire pour interagir avec l'API d'OpenAI et, par conséquent, avec ChatGPT."
   ]
  },
  {
   "cell_type": "code",
   "execution_count": null,
   "id": "db37c8bc",
   "metadata": {
    "lines_to_next_cell": 3
   },
   "outputs": [],
   "source": [
    "import openai"
   ]
  },
  {
   "cell_type": "markdown",
   "id": "736f967c",
   "metadata": {},
   "source": [
    "Ici, nous définissons la clé API pour accéder à l'API d'OpenAI. Cette clé est essentielle pour authentifier vos requêtes.\n",
    "\n",
    "    Attention : Ne partagez jamais votre clé API en public. Elle est montrée ici à des fins d'illustration."
   ]
  },
  {
   "cell_type": "code",
   "execution_count": null,
   "id": "32e8da3a",
   "metadata": {},
   "outputs": [],
   "source": [
    "openai.api_key = \"sk-5pRlmKwMIOLVFp68ssOjT3BlbkFXXXXXXXXXXXXXXXEjAj1a\""
   ]
  },
  {
   "cell_type": "markdown",
   "id": "75498143",
   "metadata": {},
   "source": [
    "Ces deux listes, marketer et financial, définissent les messages initiaux pour deux conversations différentes. Chaque message a un rôle (system ou user) et un contenu."
   ]
  },
  {
   "cell_type": "code",
   "execution_count": null,
   "id": "58b0752c",
   "metadata": {},
   "outputs": [],
   "source": [
    "marketer = [\n",
    "  {\"role\": \"system\", \"content\": \"You are a marketing specialist avid to debate about anything.\"},\n",
    "  {\"role\": \"user\", \"content\": \"I'm a finance specialist avid to talk about anything.\"},\n",
    "]\n",
    "financial = [\n",
    "  {\"role\": \"system\", \"content\": \"You are finance specialist avid to debate about anything.\"},\n",
    "  {\"role\": \"user\", \"content\": \"I'm a marketing specialist avid to talk about anything.\"},\n",
    "]\n"
   ]
  },
  {
   "cell_type": "markdown",
   "id": "50004ca8",
   "metadata": {},
   "source": [
    "Cette fonction, nommée ask_chatgpt, prend en entrée une liste de messages et renvoie la réponse de ChatGPT. Elle utilise le modèle gpt-3.5-turbo pour obtenir la complétion."
   ]
  },
  {
   "cell_type": "code",
   "execution_count": null,
   "id": "b2eb7b14",
   "metadata": {},
   "outputs": [],
   "source": [
    "def ask_chatgpt(messages):\n",
    "  completion = openai.ChatCompletion.create(\n",
    "    model=\"gpt-3.5-turbo\",\n",
    "    messages = messages\n",
    "  )\n",
    "  return dict(completion[\"choices\"][0][\"message\"])"
   ]
  },
  {
   "cell_type": "markdown",
   "id": "c12f2837",
   "metadata": {},
   "source": [
    "Dans cette section, le code interroge ChatGPT avec les messages initiaux, affiche la réponse, puis ajoute cette réponse à la liste de messages pour la prochaine interrogation. Cela permet à ChatGPT de \"parler\" avec lui-même en alternant les rôles de spécialiste en marketing et en finance."
   ]
  },
  {
   "cell_type": "code",
   "execution_count": null,
   "id": "b0faa4c4",
   "metadata": {},
   "outputs": [],
   "source": [
    "\n",
    "res = ask_chatgpt(marketer)\n",
    "print(res[\"content\"])\n",
    "\n",
    "financial.append(res)\n",
    "\n",
    "res = ask_chatgpt(financial)\n",
    "print(res[\"content\"])\n",
    "\n",
    "marketer.append(res)\n",
    "\n",
    "res = ask_chatgpt(marketer)\n",
    "print(res[\"content\"])\n"
   ]
  },
  {
   "cell_type": "markdown",
   "id": "5e0fffaf",
   "metadata": {},
   "source": [
    "\n",
    "## A vous de jouer\n",
    "Vous pouvez modifier les prompts initiaux pour essayer différents scénarios et voir comment ChatGPT réagit."
   ]
  },
  {
   "cell_type": "code",
   "execution_count": null,
   "id": "2e4eebbb",
   "metadata": {},
   "outputs": [],
   "source": [
    "marketer = [\n",
    "  {\"role\": \"system\", \"content\": \"You are a marketing specialist avid to debate about anything.\"},\n",
    "  {\"role\": \"user\", \"content\": \"I'm a finance specialist avid to talk about anything.\"},\n",
    "]\n",
    "financial = [\n",
    "  {\"role\": \"system\", \"content\": \"You are finance specialist avid to debate about anything.\"},\n",
    "  {\"role\": \"user\", \"content\": \"I'm a marketing specialist avid to talk about anything.\"},\n",
    "]\n"
   ]
  },
  {
   "cell_type": "code",
   "execution_count": null,
   "id": "318515d5",
   "metadata": {},
   "outputs": [],
   "source": [
    "\n",
    "res = ask_chatgpt(marketer)\n",
    "print(res[\"content\"])\n",
    "\n",
    "financial.append(res)\n",
    "\n",
    "res = ask_chatgpt(financial)\n",
    "print(res[\"content\"])\n",
    "\n",
    "marketer.append(res)\n",
    "\n",
    "res = ask_chatgpt(marketer)\n",
    "print(res[\"content\"])\n"
   ]
  }
 ],
 "metadata": {
  "jupytext": {
   "cell_metadata_filter": "-all",
   "main_language": "python",
   "notebook_metadata_filter": "-all"
  },
  "kernelspec": {
   "display_name": "sandbox",
   "language": "python",
   "name": "python3"
  },
  "language_info": {
   "codemirror_mode": {
    "name": "ipython",
    "version": 3
   },
   "file_extension": ".py",
   "mimetype": "text/x-python",
   "name": "python",
   "nbconvert_exporter": "python",
   "pygments_lexer": "ipython3",
   "version": "3.9.6"
  }
 },
 "nbformat": 4,
 "nbformat_minor": 5
}
